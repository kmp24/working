{
 "cells": [
  {
   "cell_type": "code",
   "execution_count": null,
   "metadata": {},
   "outputs": [],
   "source": [
    "import rasterio\n",
    "from rasterio.merge import merge\n",
    "from rasterio.plot import show\n",
    "import glob\n",
    "import os"
   ]
  },
  {
   "cell_type": "code",
   "execution_count": null,
   "metadata": {},
   "outputs": [],
   "source": [
    "from rasterio import Affine, MemoryFile\n",
    "\n",
    "def memRaster(out_img,src):\n",
    "    out_meta = src.meta.copy()\n",
    "    crs = \"+proj=utm +zone=10 +ellps=GRS80 +towgs84=0,0,0,0,0,0,0 +units=m +no_defs\"\n",
    "    out_meta.update({\"driver\": \"GTiff\", \"height\": out_img.shape[1],\"width\": out_img.shape[2],\"transform\": out_transform,\"crs\": crs})\n",
    "    with MemoryFile() as memfile:\n",
    "        with memfile.open(raster) as dataset:\n",
    "            dataset.write(raster)\n",
    "\n",
    "    memfile.seek(0)\n",
    "    print(memfile.read(1000))\n",
    "    return out_img"
   ]
  },
  {
   "cell_type": "code",
   "execution_count": null,
   "metadata": {},
   "outputs": [],
   "source": [
    "dirpath = r\"D:\\data\\projects\\L8\"\n",
    "\n",
    "out_fp = r\"D:\\data\\projects\\L8\\test.tif\"\n",
    "\n",
    "# Make a search criteria to select the files\n",
    "search_criteria = \"m*b1.tif\"\n",
    "\n",
    "q = os.path.join(dirpath, search_criteria)\n",
    "\n",
    "print(q)"
   ]
  },
  {
   "cell_type": "code",
   "execution_count": null,
   "metadata": {},
   "outputs": [],
   "source": [
    "dem_fps = glob.glob(q)\n",
    "dem_fps"
   ]
  },
  {
   "cell_type": "code",
   "execution_count": null,
   "metadata": {},
   "outputs": [],
   "source": [
    "# empty list to hold mosaic\n",
    "src_files_to_mosaic = []"
   ]
  },
  {
   "cell_type": "code",
   "execution_count": null,
   "metadata": {},
   "outputs": [],
   "source": [
    "for fp in dem_fps:\n",
    "    src = rasterio.open(fp)\n",
    "    src_files_to_mosaic.append(src)\n",
    "    \n",
    "    src_files_to_mosaic\n",
    "    mosaic, out_trans = merge(src_files_to_mosaic)\n",
    "    \n",
    "    mosaic = 1"
   ]
  }
 ],
 "metadata": {
  "kernelspec": {
   "display_name": "Python 3",
   "language": "python",
   "name": "python3"
  },
  "language_info": {
   "codemirror_mode": {
    "name": "ipython",
    "version": 3
   },
   "file_extension": ".py",
   "mimetype": "text/x-python",
   "name": "python",
   "nbconvert_exporter": "python",
   "pygments_lexer": "ipython3",
   "version": "3.8.5"
  }
 },
 "nbformat": 4,
 "nbformat_minor": 2
}

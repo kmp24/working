{
 "cells": [
  {
   "cell_type": "code",
   "execution_count": null,
   "metadata": {},
   "outputs": [],
   "source": [
    "import pandas as pd\n",
    "import geopandas as gpd\n",
    "import os, shutil"
   ]
  },
  {
   "cell_type": "code",
   "execution_count": null,
   "metadata": {},
   "outputs": [],
   "source": [
    "%%capture\n",
    "#### Steps for using AOI\n",
    "\n",
    "## selected area of interest\n",
    "## Reproject to quad file projection\n",
    "aoi = gpd.read_file(r'D:\\polygons_or_points.gpkg')\n",
    "state = 'WA'\n",
    "year = '2016'\n",
    "\n",
    "## USGS quad files (DOQQ) from \n",
    "## https://www.fsa.usda.gov/programs-and-services/aerial-photography/imagery-programs/naip-qq-and-photocenter-shapefiles\n",
    "quad_path = 'https://www.fsa.usda.gov/Assets/USDA-FSA-Public/usdafiles/APFO/imagery-programs/zips/naip'\n",
    "## EPSG:4269\n",
    "quad = gpd.GeoDataFrame.from_file(os.path.join(quad-path, year,state, 'naip' + year[2:] + 'qq.zip')\n",
    "\n",
    "## AOI files need to be the same projection as the Quad file, else this will not work correctly\n",
    "quad_intersection = gpd.sjoin(quad,aoi, how=\"right\", op='intersects')\n",
    "\n",
    "## The version of NAIP, verify using the USGS quad file, string in this format\n",
    "state_year = state + '_' + year\n",
    "\n",
    "\n",
    "q = quad_intersection.iloc[0:,1:26]\n",
    "q = pd.DataFrame(q).drop_duplicates()\n",
    "q = pd.DataFrame(q).drop_duplicates()\n",
    "q.reset_index(inplace=True)\n",
    "q.to_string()"
   ]
  },
  {
   "cell_type": "code",
   "execution_count": null,
   "metadata": {},
   "outputs": [],
   "source": [
    "s3_NAIP = r'https://prd-tnm.s3.amazonaws.com/StagedProducts/NAIP/'+state_year+'/'\n",
    "q['jpfilename'] = q.FileName.str[:-3]+'jp2'\n",
    "q['ProductLink'] = s3_NAIP+q.APFONAME.str[:-2]+'/'+q.jpfilename"
   ]
  },
  {
   "cell_type": "code",
   "execution_count": null,
   "metadata": {},
   "outputs": [],
   "source": [
    "for row in q.ProductLink:\n",
    "    print(row)\n",
    "    \n",
    "len(q)"
   ]
  },
  {
   "cell_type": "code",
   "execution_count": null,
   "metadata": {},
   "outputs": [],
   "source": [
    "# Optional to save list to csv\n",
    "#q.to_csv('additional.csv')"
   ]
  },
  {
   "cell_type": "code",
   "execution_count": null,
   "metadata": {},
   "outputs": [],
   "source": [
    "# Download the data directly\n",
    "import requests\n",
    "\n",
    "NAIP_PATH = os.path.join(r'D:\\naip2016')\n",
    "\n",
    "# For each row\n",
    "for i, row in q.iterrows():\n",
    "    if os.path.exists(os.path.join(NAIP_PATH, row.jpfilename)): \n",
    "        print'Skipping ' + row.jpfilename + ' as it already exists'\n",
    "    else:\n",
    "        response = requests.get(row.ProductLink)\n",
    "        # If the response status code is fine (200)\n",
    "        if response.status_code == 200:\n",
    "            filename = os.path.join(NAIP_PATH,row.jpfilename)\n",
    "            \n",
    "            # Download the file \n",
    "            response = requests.get(row.ProductLink, stream=True)\n",
    "\n",
    "            with open(filename, 'wb') as output:\n",
    "                shutil.copyfileobj(response.raw, output)\n",
    "                print filename + ' downloaded'"
   ]
  },
  {
   "cell_type": "code",
   "execution_count": null,
   "metadata": {},
   "outputs": [],
   "source": []
  }
 ],
 "metadata": {
  "kernelspec": {
   "display_name": "Python38",
   "language": "python",
   "name": "py38"
  },
  "language_info": {
   "codemirror_mode": {
    "name": "ipython",
    "version": 3
   },
   "file_extension": ".py",
   "mimetype": "text/x-python",
   "name": "python",
   "nbconvert_exporter": "python",
   "pygments_lexer": "ipython3",
   "version": "3.8.5"
  }
 },
 "nbformat": 4,
 "nbformat_minor": 2
}

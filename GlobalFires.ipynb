{
 "cells": [
  {
   "cell_type": "code",
   "execution_count": null,
   "metadata": {},
   "outputs": [],
   "source": [
    "import rasterio\n",
    "from rasterio.plot import show\n",
    "from rasterstats import zonal_stats\n",
    "import geopandas as gpd\n",
    "import os\n",
    "import numpy as np\n",
    "import pandas as pd\n",
    "import glob"
   ]
  },
  {
   "cell_type": "code",
   "execution_count": null,
   "metadata": {},
   "outputs": [],
   "source": [
    "# Download global fires from a defined time period\n",
    "# Data from https://earthobservatory.nasa.gov/global-maps/MOD14A1_M_FIRE\n",
    "data_dir = glob.glob(r'D:\\notebooks\\projects\\globalfires\\*.tiff')\n",
    "countries = gpd.GeoDataFrame.from_file(r'D:\\notebooks\\projects\\globalfires\\countries.gpkg')\n",
    "n = 0\n",
    "\n",
    "# Empty dataframe to store results\n",
    "data = pd.DataFrame()\n",
    "\n",
    "# Read the raster\n",
    "for fires in data_dir:\n",
    "    n = n + 1\n",
    "    print str(fires)\n",
    "    firemonth = os.path.join(r'D:\\notebooks\\projects\\globalfires', fires)\n",
    "    fire = rasterio.open(firemonth)\n",
    "    \n",
    "    monthyear = str(firemonth[70:-11])\n",
    "    year, month = str(monthyear[0:4]), str(monthyear[5:8])\n",
    "    \n",
    "    print year, month\n",
    "    \n",
    "    array = fire.read(1)\n",
    "    affine = fire.transform\n",
    "    \n",
    "    # remove the no data values, .1 (water)\n",
    "    array[array==99999] = 0\n",
    "    array[array<1] = 0\n",
    "    \n",
    "    # Zonal stats - summarize the pixel counts by country\n",
    "    fire_stats = zonal_stats(countries, array, affine=affine, stats=['count','sum', 'mean'])\n",
    "    firestats = pd.DataFrame(fire_stats, columns={'count','sum','mean'})\n",
    "    firestats['monthly_fires'] = firestats['sum']\n",
    "    firestats['Month'] = month\n",
    "    firestats['Year'] = year\n",
    "\n",
    "    # add to dataframe\n",
    "    data = data.append(firestats)\n",
    "\n",
    "print str(n) + ' months summarized'\n",
    "data.to_csv(os.path.join(r'D:\\notebooks\\projects\\globalfires','country_fire_analysis.csv'))"
   ]
  },
  {
   "cell_type": "code",
   "execution_count": null,
   "metadata": {},
   "outputs": [],
   "source": []
  }
 ],
 "metadata": {
  "kernelspec": {
   "display_name": "Python38",
   "language": "python",
   "name": "py38"
  },
  "language_info": {
   "codemirror_mode": {
    "name": "ipython",
    "version": 3
   },
   "file_extension": ".py",
   "mimetype": "text/x-python",
   "name": "python",
   "nbconvert_exporter": "python",
   "pygments_lexer": "ipython3",
   "version": "3.8.5"
  }
 },
 "nbformat": 4,
 "nbformat_minor": 2
}

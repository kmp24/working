{
 "cells": [
  {
   "cell_type": "code",
   "execution_count": null,
   "metadata": {},
   "outputs": [],
   "source": [
    "import rasterio\n",
    "from rasterio import plot\n",
    "import matplotlib.pyplot as plt\n",
    "import numpy as np\n",
    "import os\n",
    "import glob\n",
    "%matplotlib inline"
   ]
  },
  {
   "cell_type": "code",
   "execution_count": null,
   "metadata": {},
   "outputs": [],
   "source": [
    "basepath = r'D:\\naip'"
   ]
  },
  {
   "cell_type": "code",
   "execution_count": null,
   "metadata": {},
   "outputs": [],
   "source": [
    "def reclassify1(raster):\n",
    "    # Reclassfy values\n",
    "    # 0: No Vegetation, 1: Vegetation\n",
    "    # Using threshold of 0 for these images, shrub vegetation\n",
    "    global img\n",
    "    img = raster\n",
    "    img[img>0] = 1\n",
    "    img[img<=0] = 0\n",
    "    return img\n",
    "\n",
    "def reclassify2(raster):\n",
    "    # Reclassfy values - higher NDVI values, 3 classes\n",
    "    global img\n",
    "    img = src\n",
    "    img[img<0.1] = 0\n",
    "    img[np.where((img >=0.1) & (img <.4))] = 1\n",
    "    img[img>=.4] = 2\n",
    "    return img\n",
    "\n",
    "# Using bins\n",
    "def ndviBins(raster):\n",
    "    class_bins = [-1, .1, .4]\n",
    "    ndvi_reclass = np.digitize(raster, class_bins)\n",
    "    return ndvi_reclass\n",
    "\n",
    "def scaledNDVI(raster):\n",
    "    global img\n",
    "    img = src\n",
    "    img = (img + 1) * 127.5\n",
    "    return img"
   ]
  },
  {
   "cell_type": "code",
   "execution_count": null,
   "metadata": {},
   "outputs": [],
   "source": [
    "for jp2 in glob.glob(os.path.join(basepath, '*.jp2')):\n",
    "    print(jp2)\n",
    "    with rasterio.open(jp2) as src:\n",
    "        red = src.read(1).astype('float64')\n",
    "        nir = src.read(4).astype('float64')\n",
    "        #blue = src.read(3).astype('float64')\n",
    "        src_meta = src.meta\n",
    "    \n",
    "        # ndvi calculation\n",
    "        ndvi = np.where((nir+red) == 0, 0, (nir-red)/(nir+red))\n",
    "    \n",
    "    # Reclassify for analysis\n",
    "    x = reclassifyPresence(ndvi)\n",
    "    reclassndvi= os.path.join(basepath,jp2[-39:-4]+'_ndvi_rc.tiff')\n",
    "    print(reclassndvi)\n",
    "    \n",
    "    # Update the metadata dtype and # of bands, output the reclassified file\n",
    "    new_meta = src.meta\n",
    "    new_meta.update({\"dtype\": 'uint8',\"count\": 1})\n",
    "    new_meta.update({\"count\": 1})\n",
    "    \n",
    "    with rasterio.open(reclassndvi, 'w', **new_meta) as dst:\n",
    "        dst.write(x.astype('uint8'),1)\n",
    "        print(jp2 + ' complete')"
   ]
  },
  {
   "cell_type": "code",
   "execution_count": null,
   "metadata": {},
   "outputs": [],
   "source": [
    "ndvi2 = rasterio.open(reclassndvi)\n",
    "fig = plt.figure(figsize=(18,12))\n",
    "plot.show(ndvi2)"
   ]
  },
  {
   "cell_type": "code",
   "execution_count": null,
   "metadata": {},
   "outputs": [],
   "source": []
  }
 ],
 "metadata": {
  "kernelspec": {
   "display_name": "Python38",
   "language": "python",
   "name": "py38"
  },
  "language_info": {
   "codemirror_mode": {
    "name": "ipython",
    "version": 3
   },
   "file_extension": ".py",
   "mimetype": "text/x-python",
   "name": "python",
   "nbconvert_exporter": "python",
   "pygments_lexer": "ipython3",
   "version": "3.8.5"
  }
 },
 "nbformat": 4,
 "nbformat_minor": 4
}
